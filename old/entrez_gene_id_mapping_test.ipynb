{
 "cells": [
  {
   "metadata": {
    "ExecuteTime": {
     "end_time": "2024-09-29T12:51:46.835150Z",
     "start_time": "2024-09-29T12:51:46.830795Z"
    }
   },
   "cell_type": "code",
   "source": "from Bio import Entrez",
   "id": "9866bedaf62d634",
   "outputs": [],
   "execution_count": 2
  },
  {
   "cell_type": "code",
   "id": "initial_id",
   "metadata": {
    "collapsed": true,
    "ExecuteTime": {
     "end_time": "2024-09-29T12:59:57.301778Z",
     "start_time": "2024-09-29T12:59:54.573218Z"
    }
   },
   "source": [
    "# Set your email (required by NCBI)\n",
    "Entrez.email = \"john.doe@example.com\"\n",
    "\n",
    "species = 'arabidopsis_thaliana'\n",
    "\n",
    "# Step 1: Query with multiple gene names\n",
    "gene_names = [\"TT1\", \"TT16\", \"TTG2\"]  # List of genes to search\n",
    "search_term = \" OR \".join([f\"{gene}[Gene Name]\" for gene in gene_names])  # Combine gene names with OR\n",
    "formated_species_name = species.replace('_', ' ').capitalize()\n",
    "search_term += f\" AND {formated_species_name}[Organism]\"\n",
    "print(search_term)\n",
    "\n",
    "# Perform the esearch query\n",
    "handle = Entrez.esearch(db=\"gene\", term=search_term)\n",
    "search_results = Entrez.read(handle)\n",
    "\n",
    "# Step 2: Fetch detailed information about the gene IDs\n",
    "gene_ids = search_results[\"IdList\"]  # List of gene IDs found\n",
    "print(f\"Found gene IDs: {gene_ids}\")\n",
    "\n",
    "# Fetch detailed information for each gene ID using efetch or esummary\n",
    "handle = Entrez.efetch(db=\"gene\", id=\",\".join(gene_ids), retmode=\"xml\")\n",
    "gene_records = Entrez.read(handle)\n",
    "\n",
    "# Step 3: Map the gene names to their corresponding IDs by retrieving the official gene symbol\n",
    "gene_mapping = {}\n",
    "for record in gene_records:\n",
    "    gene_symbol = record['Entrezgene_gene']['Gene-ref']['Gene-ref_locus']\n",
    "    gene_id = record['Entrezgene_track-info']['Gene-track']['Gene-track_geneid']\n",
    "    gene_mapping[gene_symbol] = gene_id"
   ],
   "outputs": [
    {
     "name": "stdout",
     "output_type": "stream",
     "text": [
      "TT1[Gene Name] OR TT16[Gene Name] OR TTG2[Gene Name] AND Arabidopsis thaliana[Organism]\n",
      "Found gene IDs: ['818303', '832390', '840386']\n"
     ]
    }
   ],
   "execution_count": 8
  },
  {
   "metadata": {
    "ExecuteTime": {
     "end_time": "2024-09-29T13:00:08.352608Z",
     "start_time": "2024-09-29T13:00:08.349149Z"
    }
   },
   "cell_type": "code",
   "source": "gene_mapping",
   "id": "c6c3807515bb74bf",
   "outputs": [
    {
     "data": {
      "text/plain": [
       "{'TTG2': '818303', 'TT16': '832390', 'TT1': '840386'}"
      ]
     },
     "execution_count": 9,
     "metadata": {},
     "output_type": "execute_result"
    }
   ],
   "execution_count": 9
  },
  {
   "metadata": {},
   "cell_type": "code",
   "outputs": [],
   "execution_count": null,
   "source": "",
   "id": "196d4a0e36f8d567"
  }
 ],
 "metadata": {
  "kernelspec": {
   "display_name": "Python 3",
   "language": "python",
   "name": "python3"
  },
  "language_info": {
   "codemirror_mode": {
    "name": "ipython",
    "version": 2
   },
   "file_extension": ".py",
   "mimetype": "text/x-python",
   "name": "python",
   "nbconvert_exporter": "python",
   "pygments_lexer": "ipython2",
   "version": "2.7.6"
  }
 },
 "nbformat": 4,
 "nbformat_minor": 5
}
