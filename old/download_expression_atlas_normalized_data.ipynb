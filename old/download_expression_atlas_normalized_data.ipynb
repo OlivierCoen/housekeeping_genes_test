{
 "cells": [
  {
   "cell_type": "code",
   "id": "initial_id",
   "metadata": {
    "collapsed": true,
    "ExecuteTime": {
     "end_time": "2024-09-29T07:28:21.022584Z",
     "start_time": "2024-09-29T07:28:21.016891Z"
    }
   },
   "source": [
    "from tempfile import gettempdir\n",
    "from pathlib import Path\n",
    "from contextlib import contextmanager\n",
    "import ftplib"
   ],
   "outputs": [],
   "execution_count": 1
  },
  {
   "metadata": {
    "ExecuteTime": {
     "end_time": "2024-09-29T07:28:21.064747Z",
     "start_time": "2024-09-29T07:28:21.062070Z"
    }
   },
   "cell_type": "code",
   "source": "experiment_id = \"E-GEOD-61545\"",
   "id": "a2e3ace6ee6e388d",
   "outputs": [],
   "execution_count": 2
  },
  {
   "metadata": {
    "ExecuteTime": {
     "end_time": "2024-09-29T07:28:21.136297Z",
     "start_time": "2024-09-29T07:28:21.134315Z"
    }
   },
   "cell_type": "code",
   "source": "ftp_url = f\"https://ftp.ebi.ac.uk/pub/databases/microarray/data/atlas/experiments/{experiment_id}\"",
   "id": "99404fe1979b6d94",
   "outputs": [],
   "execution_count": 3
  },
  {
   "metadata": {
    "ExecuteTime": {
     "end_time": "2024-09-29T07:28:51.809318Z",
     "start_time": "2024-09-29T07:28:51.805265Z"
    }
   },
   "cell_type": "code",
   "source": [
    "@contextmanager\n",
    "def ftp_connection(host):\n",
    "    ftp = ftplib.FTP(host)\n",
    "    try:\n",
    "        ftp.login()  # Anonymous login\n",
    "        yield ftp  # Provide the FTP connection object\n",
    "    finally:\n",
    "        ftp.quit()  # Ensure the connection is closed\n",
    "        \n",
    "\n",
    "def download_from_ftp(ftp, file_name: str, local_file_path: str):\n",
    "    print(f\"Downloading {file_name} to {local_file_path}...\")\n",
    "    with open(local_file_path, 'wb') as local_file:\n",
    "        ftp.retrbinary(f\"RETR {file_name}\", local_file.write)\n",
    "        \n",
    "\n",
    "def download_count_file_from_ftp(ftp_url: str, destination_folder: Path, count_type: str):\n",
    "    ftp_host = \"ftp.ebi.ac.uk\"\n",
    "    ftp_directory = ftp_url.replace(f'ftp://{ftp_host}/', '')\n",
    "    \n",
    "    # Use the context manager to handle the FTP connection\n",
    "    with ftp_connection(ftp_host) as ftp:\n",
    "        # Change to the desired directory\n",
    "        ftp.cwd(ftp_directory)\n",
    "\n",
    "        # List all files in the directory\n",
    "        files = ftp.nlst()\n",
    "        \n",
    "        print(files)\n",
    "        \n",
    "        tpm_files = [file for file in files if file.endswith(\"tpms.tsv\")]\n",
    "        fpkm_files = [file for file in files if file.endswith(\"fpkms.tsv\")]\n",
    "        raw_count_files = [file for file in files if file.endswith(\"raw-counts.tsv\")]\n",
    "        raw_count_files = [file for file in files if file.endswith(\"raw-counts.tsv\")]\n",
    "            \n",
    "        if count_type == \"tpm\" and :\n",
    "            to_download = True\n",
    "        elif count_type == \"fpkm\" and file.endswith(\"fpkms.tsv\"):\n",
    "            to_download = True\n",
    "        elif \n",
    "        destination_file = destination_folder / file_name\n",
    "        download_from_ftp(ftp, file_name, local_file_path)\n",
    "            \n",
    "\n",
    "    print('All files downloaded.')"
   ],
   "id": "bd942b33172eda88",
   "outputs": [],
   "execution_count": 6
  },
  {
   "metadata": {
    "ExecuteTime": {
     "end_time": "2024-09-29T07:28:52.413015Z",
     "start_time": "2024-09-29T07:28:52.186837Z"
    }
   },
   "cell_type": "code",
   "source": [
    "destination_folder = Path(gettempdir()) / experiment_id\n",
    "destination_folder.mkdir(parents=True, exist_ok=True)\n",
    "download_all_files_from_ftp(ftp_url, destination_folder)"
   ],
   "id": "ac5b9f5abf9b7ddc",
   "outputs": [
    {
     "ename": "error_perm",
     "evalue": "550 Failed to change directory.",
     "output_type": "error",
     "traceback": [
      "\u001B[0;31m---------------------------------------------------------------------------\u001B[0m",
      "\u001B[0;31merror_perm\u001B[0m                                Traceback (most recent call last)",
      "Cell \u001B[0;32mIn[7], line 2\u001B[0m\n\u001B[1;32m      1\u001B[0m destination_folder \u001B[38;5;241m=\u001B[39m Path(gettempdir()) \u001B[38;5;241m/\u001B[39m experiment_id\n\u001B[0;32m----> 2\u001B[0m \u001B[43mdownload_all_files_from_ftp\u001B[49m\u001B[43m(\u001B[49m\u001B[43mftp_url\u001B[49m\u001B[43m,\u001B[49m\u001B[43m \u001B[49m\u001B[43mdestination_folder\u001B[49m\u001B[43m)\u001B[49m\n",
      "Cell \u001B[0;32mIn[6], line 17\u001B[0m, in \u001B[0;36mdownload_all_files_from_ftp\u001B[0;34m(ftp_url, destination_folder)\u001B[0m\n\u001B[1;32m     14\u001B[0m \u001B[38;5;66;03m# Use the context manager to handle the FTP connection\u001B[39;00m\n\u001B[1;32m     15\u001B[0m \u001B[38;5;28;01mwith\u001B[39;00m ftp_connection(ftp_host) \u001B[38;5;28;01mas\u001B[39;00m ftp:\n\u001B[1;32m     16\u001B[0m     \u001B[38;5;66;03m# Change to the desired directory\u001B[39;00m\n\u001B[0;32m---> 17\u001B[0m     \u001B[43mftp\u001B[49m\u001B[38;5;241;43m.\u001B[39;49m\u001B[43mcwd\u001B[49m\u001B[43m(\u001B[49m\u001B[43mftp_directory\u001B[49m\u001B[43m)\u001B[49m\n\u001B[1;32m     19\u001B[0m     \u001B[38;5;66;03m# List all files in the directory\u001B[39;00m\n\u001B[1;32m     20\u001B[0m     files \u001B[38;5;241m=\u001B[39m ftp\u001B[38;5;241m.\u001B[39mnlst()\n",
      "File \u001B[0;32m~/micromamba/envs/hskp_test/lib/python3.11/ftplib.py:625\u001B[0m, in \u001B[0;36mFTP.cwd\u001B[0;34m(self, dirname)\u001B[0m\n\u001B[1;32m    623\u001B[0m     dirname \u001B[38;5;241m=\u001B[39m \u001B[38;5;124m'\u001B[39m\u001B[38;5;124m.\u001B[39m\u001B[38;5;124m'\u001B[39m  \u001B[38;5;66;03m# does nothing, but could return error\u001B[39;00m\n\u001B[1;32m    624\u001B[0m cmd \u001B[38;5;241m=\u001B[39m \u001B[38;5;124m'\u001B[39m\u001B[38;5;124mCWD \u001B[39m\u001B[38;5;124m'\u001B[39m \u001B[38;5;241m+\u001B[39m dirname\n\u001B[0;32m--> 625\u001B[0m \u001B[38;5;28;01mreturn\u001B[39;00m \u001B[38;5;28;43mself\u001B[39;49m\u001B[38;5;241;43m.\u001B[39;49m\u001B[43mvoidcmd\u001B[49m\u001B[43m(\u001B[49m\u001B[43mcmd\u001B[49m\u001B[43m)\u001B[49m\n",
      "File \u001B[0;32m~/micromamba/envs/hskp_test/lib/python3.11/ftplib.py:286\u001B[0m, in \u001B[0;36mFTP.voidcmd\u001B[0;34m(self, cmd)\u001B[0m\n\u001B[1;32m    284\u001B[0m \u001B[38;5;250m\u001B[39m\u001B[38;5;124;03m\"\"\"Send a command and expect a response beginning with '2'.\"\"\"\u001B[39;00m\n\u001B[1;32m    285\u001B[0m \u001B[38;5;28mself\u001B[39m\u001B[38;5;241m.\u001B[39mputcmd(cmd)\n\u001B[0;32m--> 286\u001B[0m \u001B[38;5;28;01mreturn\u001B[39;00m \u001B[38;5;28;43mself\u001B[39;49m\u001B[38;5;241;43m.\u001B[39;49m\u001B[43mvoidresp\u001B[49m\u001B[43m(\u001B[49m\u001B[43m)\u001B[49m\n",
      "File \u001B[0;32m~/micromamba/envs/hskp_test/lib/python3.11/ftplib.py:259\u001B[0m, in \u001B[0;36mFTP.voidresp\u001B[0;34m(self)\u001B[0m\n\u001B[1;32m    257\u001B[0m \u001B[38;5;28;01mdef\u001B[39;00m \u001B[38;5;21mvoidresp\u001B[39m(\u001B[38;5;28mself\u001B[39m):\n\u001B[1;32m    258\u001B[0m \u001B[38;5;250m    \u001B[39m\u001B[38;5;124;03m\"\"\"Expect a response beginning with '2'.\"\"\"\u001B[39;00m\n\u001B[0;32m--> 259\u001B[0m     resp \u001B[38;5;241m=\u001B[39m \u001B[38;5;28;43mself\u001B[39;49m\u001B[38;5;241;43m.\u001B[39;49m\u001B[43mgetresp\u001B[49m\u001B[43m(\u001B[49m\u001B[43m)\u001B[49m\n\u001B[1;32m    260\u001B[0m     \u001B[38;5;28;01mif\u001B[39;00m resp[:\u001B[38;5;241m1\u001B[39m] \u001B[38;5;241m!=\u001B[39m \u001B[38;5;124m'\u001B[39m\u001B[38;5;124m2\u001B[39m\u001B[38;5;124m'\u001B[39m:\n\u001B[1;32m    261\u001B[0m         \u001B[38;5;28;01mraise\u001B[39;00m error_reply(resp)\n",
      "File \u001B[0;32m~/micromamba/envs/hskp_test/lib/python3.11/ftplib.py:254\u001B[0m, in \u001B[0;36mFTP.getresp\u001B[0;34m(self)\u001B[0m\n\u001B[1;32m    252\u001B[0m     \u001B[38;5;28;01mraise\u001B[39;00m error_temp(resp)\n\u001B[1;32m    253\u001B[0m \u001B[38;5;28;01mif\u001B[39;00m c \u001B[38;5;241m==\u001B[39m \u001B[38;5;124m'\u001B[39m\u001B[38;5;124m5\u001B[39m\u001B[38;5;124m'\u001B[39m:\n\u001B[0;32m--> 254\u001B[0m     \u001B[38;5;28;01mraise\u001B[39;00m error_perm(resp)\n\u001B[1;32m    255\u001B[0m \u001B[38;5;28;01mraise\u001B[39;00m error_proto(resp)\n",
      "\u001B[0;31merror_perm\u001B[0m: 550 Failed to change directory."
     ]
    }
   ],
   "execution_count": 7
  },
  {
   "metadata": {},
   "cell_type": "code",
   "outputs": [],
   "execution_count": null,
   "source": "",
   "id": "d9631318f249a176"
  },
  {
   "metadata": {
    "ExecuteTime": {
     "end_time": "2024-09-28T15:03:19.783887Z",
     "start_time": "2024-09-28T15:03:18.953850Z"
    }
   },
   "cell_type": "code",
   "source": [
    "aspera_package_path = Path(get_conda_package_path('aspera-cli'))\n",
    "private_ssh_key_file = aspera_package_path / 'etc/asperaweb_id_dsa.openssh'"
   ],
   "id": "1fa718c57692c0da",
   "outputs": [],
   "execution_count": 21
  },
  {
   "metadata": {},
   "cell_type": "code",
   "outputs": [],
   "execution_count": null,
   "source": "",
   "id": "3e2ad2826e6886be"
  }
 ],
 "metadata": {
  "kernelspec": {
   "display_name": "Python 3",
   "language": "python",
   "name": "python3"
  },
  "language_info": {
   "codemirror_mode": {
    "name": "ipython",
    "version": 2
   },
   "file_extension": ".py",
   "mimetype": "text/x-python",
   "name": "python",
   "nbconvert_exporter": "python",
   "pygments_lexer": "ipython2",
   "version": "2.7.6"
  }
 },
 "nbformat": 4,
 "nbformat_minor": 5
}
