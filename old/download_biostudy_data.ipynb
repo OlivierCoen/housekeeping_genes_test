{
 "cells": [
  {
   "cell_type": "code",
   "id": "initial_id",
   "metadata": {
    "collapsed": true,
    "ExecuteTime": {
     "end_time": "2024-09-28T15:16:33.689719Z",
     "start_time": "2024-09-28T15:16:33.685179Z"
    }
   },
   "source": [
    "import requests\n",
    "from urllib.request import urlretrieve\n",
    "from tempfile import gettempdir\n",
    "from pathlib import Path\n",
    "import subprocess\n",
    "import re\n",
    "from contextlib import contextmanager\n",
    "import ftplib"
   ],
   "outputs": [],
   "execution_count": 29
  },
  {
   "metadata": {
    "ExecuteTime": {
     "end_time": "2024-09-28T14:46:06.298139Z",
     "start_time": "2024-09-28T14:46:06.293406Z"
    }
   },
   "cell_type": "code",
   "source": "array_express_id = \"E-GEOD-61545\"",
   "id": "a2e3ace6ee6e388d",
   "outputs": [],
   "execution_count": 6
  },
  {
   "metadata": {
    "ExecuteTime": {
     "end_time": "2024-09-28T14:46:06.690864Z",
     "start_time": "2024-09-28T14:46:06.683818Z"
    }
   },
   "cell_type": "code",
   "source": [
    "def send_query(url: str):\n",
    "    # Send the GET request\n",
    "    response = requests.get(url)\n",
    "    # Check if the request was successful\n",
    "    if response.status_code == 200:\n",
    "        return response.json()\n",
    "    else:\n",
    "        raise ValueError(f\"Error: {response.status_code}\")"
   ],
   "id": "6620363544e67e78",
   "outputs": [],
   "execution_count": 7
  },
  {
   "metadata": {
    "ExecuteTime": {
     "end_time": "2024-09-28T14:56:05.608544Z",
     "start_time": "2024-09-28T14:56:05.201764Z"
    }
   },
   "cell_type": "code",
   "source": [
    "url = f\"https://www.ebi.ac.uk/biostudies/api/v1/studies/{array_express_id}/info\"\n",
    "data = send_query(url)\n",
    "ftp_url = data['ftpLink']"
   ],
   "id": "99404fe1979b6d94",
   "outputs": [],
   "execution_count": 15
  },
  {
   "metadata": {
    "ExecuteTime": {
     "end_time": "2024-09-28T15:05:27.512206Z",
     "start_time": "2024-09-28T15:05:27.508599Z"
    }
   },
   "cell_type": "code",
   "source": "ftp_url",
   "id": "7ee26efada968cff",
   "outputs": [
    {
     "data": {
      "text/plain": [
       "'ftp://ftp.ebi.ac.uk/biostudies/fire/E-GEOD-/545/E-GEOD-61545'"
      ]
     },
     "execution_count": 22,
     "metadata": {},
     "output_type": "execute_result"
    }
   ],
   "execution_count": 22
  },
  {
   "metadata": {
    "ExecuteTime": {
     "end_time": "2024-09-28T14:59:08.801682Z",
     "start_time": "2024-09-28T14:59:08.793905Z"
    }
   },
   "cell_type": "code",
   "source": [
    "def get_conda_package_path(package_name):\n",
    "    try:\n",
    "        # Run the conda list command\n",
    "        result = subprocess.run(\n",
    "            ['conda', 'list', package_name],\n",
    "            stdout=subprocess.PIPE, stderr=subprocess.PIPE, text=True\n",
    "        )\n",
    "        \n",
    "        # Check if the command executed successfully\n",
    "        if result.returncode == 0:\n",
    "            # Search for the line containing the environment path\n",
    "            match = re.search(r'packages in environment at (.*):', result.stdout)\n",
    "            if match:\n",
    "                return match.group(1)  # Return the extracted path\n",
    "            else:\n",
    "                raise RuntimeError(\"Environment path not found in output.\")\n",
    "        else:\n",
    "            return RuntimeError( f\"Error: {result.stderr}\")\n",
    "    except Exception as e:\n",
    "        raise e"
   ],
   "id": "698fe51a0374532f",
   "outputs": [],
   "execution_count": 17
  },
  {
   "metadata": {},
   "cell_type": "code",
   "outputs": [],
   "execution_count": null,
   "source": "",
   "id": "d1e0c1bb3f13c0a8"
  },
  {
   "metadata": {
    "ExecuteTime": {
     "end_time": "2024-09-28T15:21:40.984285Z",
     "start_time": "2024-09-28T15:21:40.975740Z"
    }
   },
   "cell_type": "code",
   "source": [
    "@contextmanager\n",
    "def ftp_connection(host):\n",
    "    ftp = ftplib.FTP(host)\n",
    "    try:\n",
    "        ftp.login()  # Anonymous login\n",
    "        yield ftp  # Provide the FTP connection object\n",
    "    finally:\n",
    "        ftp.quit()  # Ensure the connection is closed\n",
    "\n",
    "def download_all_files_from_ftp(ftp_url: str, destination_folder: Path):\n",
    "    ftp_host = \"ftp.ebi.ac.uk\"\n",
    "    ftp_directory = ftp_url.replace(f'ftp://{ftp_host}/', '')\n",
    "    files_ftp_directory = ftp_directory + '/Files'\n",
    "    \n",
    "    # Use the context manager to handle the FTP connection\n",
    "    with ftp_connection(ftp_host) as ftp:\n",
    "        # Change to the desired directory\n",
    "        ftp.cwd(files_ftp_directory)\n",
    "\n",
    "        # List all files in the directory\n",
    "        files = ftp.nlst()\n",
    "\n",
    "        # Ensure the destination folder exists\n",
    "        destination_folder.mkdir(parents=True, exist_ok=True)\n",
    "\n",
    "        # Download each file\n",
    "        for file_name in files:\n",
    "            local_file_path = destination_folder / file_name\n",
    "            print(f\"Downloading {file_name} to {local_file_path}...\")\n",
    "            with open(local_file_path, 'wb') as local_file:\n",
    "                ftp.retrbinary(f\"RETR {file_name}\", local_file.write)\n",
    "    \n",
    "    print('All files downloaded.')"
   ],
   "id": "bd942b33172eda88",
   "outputs": [],
   "execution_count": 31
  },
  {
   "metadata": {
    "ExecuteTime": {
     "end_time": "2024-09-28T15:22:15.105629Z",
     "start_time": "2024-09-28T15:22:13.262949Z"
    }
   },
   "cell_type": "code",
   "source": [
    "destination_folder = Path(gettempdir()) / array_express_id\n",
    "download_all_files_from_ftp(ftp_url, destination_folder)"
   ],
   "id": "ac5b9f5abf9b7ddc",
   "outputs": [
    {
     "name": "stdout",
     "output_type": "stream",
     "text": [
      "Downloading E-GEOD-61545.idf.txt to /tmp/E-GEOD-61545/E-GEOD-61545.idf.txt...\n",
      "Downloading E-GEOD-61545.sdrf.txt to /tmp/E-GEOD-61545/E-GEOD-61545.sdrf.txt...\n",
      "All files downloaded.\n"
     ]
    }
   ],
   "execution_count": 32
  },
  {
   "metadata": {},
   "cell_type": "code",
   "outputs": [],
   "execution_count": null,
   "source": "",
   "id": "d9631318f249a176"
  },
  {
   "metadata": {
    "ExecuteTime": {
     "end_time": "2024-09-28T15:03:19.783887Z",
     "start_time": "2024-09-28T15:03:18.953850Z"
    }
   },
   "cell_type": "code",
   "source": [
    "aspera_package_path = Path(get_conda_package_path('aspera-cli'))\n",
    "private_ssh_key_file = aspera_package_path / 'etc/asperaweb_id_dsa.openssh'"
   ],
   "id": "1fa718c57692c0da",
   "outputs": [],
   "execution_count": 21
  },
  {
   "metadata": {},
   "cell_type": "code",
   "outputs": [],
   "execution_count": null,
   "source": "",
   "id": "3e2ad2826e6886be"
  }
 ],
 "metadata": {
  "kernelspec": {
   "display_name": "Python 3",
   "language": "python",
   "name": "python3"
  },
  "language_info": {
   "codemirror_mode": {
    "name": "ipython",
    "version": 2
   },
   "file_extension": ".py",
   "mimetype": "text/x-python",
   "name": "python",
   "nbconvert_exporter": "python",
   "pygments_lexer": "ipython2",
   "version": "2.7.6"
  }
 },
 "nbformat": 4,
 "nbformat_minor": 5
}
