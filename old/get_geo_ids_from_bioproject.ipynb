{
 "cells": [
  {
   "cell_type": "code",
   "id": "initial_id",
   "metadata": {
    "collapsed": true,
    "ExecuteTime": {
     "end_time": "2024-09-27T14:38:51.281201Z",
     "start_time": "2024-09-27T14:38:51.278173Z"
    }
   },
   "source": [
    "from Bio import Entrez\n",
    "import pandas as pd\n",
    "import yaml"
   ],
   "outputs": [],
   "execution_count": 41
  },
  {
   "metadata": {
    "ExecuteTime": {
     "end_time": "2024-09-27T14:13:02.253703Z",
     "start_time": "2024-09-27T14:13:02.249736Z"
    }
   },
   "cell_type": "code",
   "source": [
    "Entrez.email = \"john.doe@gmail.com\"\n",
    "#Entrez.api_key = \"your_ncbi_api_key\""
   ],
   "id": "5a6030f7051815a7",
   "outputs": [],
   "execution_count": 9
  },
  {
   "metadata": {
    "ExecuteTime": {
     "end_time": "2024-09-27T14:35:33.507266Z",
     "start_time": "2024-09-27T14:35:33.503470Z"
    }
   },
   "cell_type": "code",
   "source": "bioproject_id = \"PRJNA1162426\" ",
   "id": "e00b48437455dde0",
   "outputs": [],
   "execution_count": 32
  },
  {
   "metadata": {
    "ExecuteTime": {
     "end_time": "2024-09-27T14:38:05.318220Z",
     "start_time": "2024-09-27T14:37:58.816685Z"
    }
   },
   "cell_type": "code",
   "source": [
    "with Entrez.esearch(db=\"gds\", term=bioproject_id) as handle:\n",
    "    record = Entrez.read(handle, validate=False)"
   ],
   "id": "38f5a91a4f5ecfec",
   "outputs": [],
   "execution_count": 36
  },
  {
   "metadata": {
    "ExecuteTime": {
     "end_time": "2024-09-27T14:50:14.869438Z",
     "start_time": "2024-09-27T14:50:14.221081Z"
    }
   },
   "cell_type": "code",
   "source": [
    "geo_ids = record['IdList']\n",
    "if not geo_ids:\n",
    "    raise KeyError(f\"No GEO datasets found for the provided BioProject ID {bioproject_id}.\")\n",
    "\n",
    "with Entrez.esummary(db=\"gds\", id=\",\".join(geo_ids)) as handle:\n",
    "    summary = Entrez.read(handle)\n",
    "\n",
    "gse_ids = [dataset_dict['Accession'] for dataset_dict in summary]"
   ],
   "id": "13da1fcbcfa4a8ca",
   "outputs": [],
   "execution_count": 49
  },
  {
   "metadata": {
    "ExecuteTime": {
     "end_time": "2024-09-27T14:50:15.932955Z",
     "start_time": "2024-09-27T14:50:15.927503Z"
    }
   },
   "cell_type": "code",
   "source": "gse_ids",
   "id": "e989959801588ee3",
   "outputs": [
    {
     "data": {
      "text/plain": [
       "['GSE277439']"
      ]
     },
     "execution_count": 50,
     "metadata": {},
     "output_type": "execute_result"
    }
   ],
   "execution_count": 50
  },
  {
   "metadata": {},
   "cell_type": "code",
   "outputs": [],
   "execution_count": null,
   "source": "",
   "id": "c8f1a30fa6a49d26"
  }
 ],
 "metadata": {
  "kernelspec": {
   "display_name": "Python 3",
   "language": "python",
   "name": "python3"
  },
  "language_info": {
   "codemirror_mode": {
    "name": "ipython",
    "version": 2
   },
   "file_extension": ".py",
   "mimetype": "text/x-python",
   "name": "python",
   "nbconvert_exporter": "python",
   "pygments_lexer": "ipython2",
   "version": "2.7.6"
  }
 },
 "nbformat": 4,
 "nbformat_minor": 5
}
